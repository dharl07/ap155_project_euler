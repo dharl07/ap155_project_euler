{
 "cells": [
  {
   "cell_type": "markdown",
   "id": "bf58059c",
   "metadata": {},
   "source": [
    "# <center> EXTRA EXERCISE (LIST HANDLING) </center>\n",
    "### August 20, 2025\n",
    "\n",
    "##### Import the random library (docs: https://docs.python.org/3/library/random.html). We will be using the random.randint function to pick random integers.\n",
    "\n",
    "* A.1. Create a function random_integer_matrix(nrows, ncols) that generates a matrix in the form of \"list-of-lists\" whose elements are random integeres from 1 to 9. Each \"sub-list\" inside the main list is a row in the matrix.\n",
    "\n",
    "* A.2. Create a function scalar_product(list1, list2) where you multiply each element at the same index in the two lists and sum/accumulate the results.\n",
    "\n",
    "* A.3. Create a function transpose_matrix(orig_matrix) which returns the transpose of any matrix also in \"list-of-lists\" form. Do not assume the size of the matrix; figure it out within the function.\n",
    "Double-check that your implementations above work. Create a 3x4 random integer matrix, print it out and its transpose. The values and shape between the two should be consistent.\n",
    "\n",
    "* A.4. Create a function matrix_multiply(left_matrix, right_matrix) which performs the matrix multiplication. Do not assume the matrices follow a specific shape. Here's some tips and strategies:\n",
    "Determine how many rows and columns the left and right matrices have. Which numbers should match in order for us to have valid matrix multiplication?\n",
    "Iterating the elements of \"list-of-lists\" gives us the rows, but we need to iterate the columns for the right matrix. Use the transpose_matrix function, then iteratively apply scalar_product."
   ]
  },
  {
   "cell_type": "code",
   "execution_count": 1,
   "id": "b0a3cf42",
   "metadata": {},
   "outputs": [],
   "source": [
    "import random"
   ]
  },
  {
   "cell_type": "code",
   "execution_count": 11,
   "id": "063fec38",
   "metadata": {},
   "outputs": [
    {
     "data": {
      "text/plain": [
       "[[2, 9, 2, 8, 7], [2, 7, 2, 8, 5], [4, 6, 7, 1, 9], [2, 5, 3, 5, 1]]"
      ]
     },
     "execution_count": 11,
     "metadata": {},
     "output_type": "execute_result"
    }
   ],
   "source": [
    "# A.1\n",
    "\n",
    "def random_integer_matrix(nrows, ncols):\n",
    "    matrix = []\n",
    "    for i in range(ncols):\n",
    "        elem = []\n",
    "        for j in range(nrows):\n",
    "            rand_num = random.randint(1,9)\n",
    "            elem.append(rand_num)\n",
    "        matrix.append(elem)\n",
    "    return matrix\n",
    "\n",
    "random_integer_matrix(5,4)"
   ]
  },
  {
   "cell_type": "code",
   "execution_count": null,
   "id": "84ffe17b",
   "metadata": {},
   "outputs": [
    {
     "data": {
      "text/plain": [
       "32"
      ]
     },
     "execution_count": 15,
     "metadata": {},
     "output_type": "execute_result"
    }
   ],
   "source": [
    "# A.2 \n",
    "\n",
    "def scalar_product(list1, list2):\n",
    "    total_product = 0\n",
    "    for i in range(len(list1)):                 # getting the index from length of the list1\n",
    "        mul_list = list1[i] * list2[i]          # multiplying the list per index\n",
    "        total_product += mul_list               # summing all the products\n",
    "    return total_product\n",
    "\n",
    "scalar_product([1,2,3], [4,5,6])"
   ]
  },
  {
   "cell_type": "code",
   "execution_count": 32,
   "id": "2571376a",
   "metadata": {},
   "outputs": [
    {
     "data": {
      "text/plain": [
       "[[1, 5], [2, 6], [3, 7], [4, 8]]"
      ]
     },
     "execution_count": 32,
     "metadata": {},
     "output_type": "execute_result"
    }
   ],
   "source": [
    "# A.3 \n",
    "\n",
    "in_matrix = [\n",
    "    [1,2,3,4],\n",
    "    [5,6,7,8]\n",
    "]\n",
    "\n",
    "def transpose_matrix(orig_matrix):\n",
    "    ncols = len(orig_matrix)\n",
    "    nrows = len(orig_matrix[0])\n",
    "    \n",
    "    final_matrix = []\n",
    "    for i in range(nrows):\n",
    "        new_col = []\n",
    "        for j in range(ncols):\n",
    "            new_col.append(0)\n",
    "        final_matrix.append(new_col)\n",
    "        \n",
    "    for i in range(nrows):\n",
    "        for j in range(ncols):\n",
    "            final_matrix[i][j] = orig_matrix[j][i]\n",
    "    \n",
    "    return final_matrix\n",
    "\n",
    "transpose_matrix(in_matrix)"
   ]
  },
  {
   "cell_type": "code",
   "execution_count": null,
   "id": "b7fbed7b",
   "metadata": {},
   "outputs": [],
   "source": []
  }
 ],
 "metadata": {
  "kernelspec": {
   "display_name": "base",
   "language": "python",
   "name": "python3"
  },
  "language_info": {
   "codemirror_mode": {
    "name": "ipython",
    "version": 3
   },
   "file_extension": ".py",
   "mimetype": "text/x-python",
   "name": "python",
   "nbconvert_exporter": "python",
   "pygments_lexer": "ipython3",
   "version": "3.12.3"
  }
 },
 "nbformat": 4,
 "nbformat_minor": 5
}
