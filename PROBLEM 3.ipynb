{
 "cells": [
  {
   "cell_type": "code",
   "execution_count": 1,
   "id": "edcbe4a6",
   "metadata": {},
   "outputs": [
    {
     "name": "stdout",
     "output_type": "stream",
     "text": [
      "[5, 7, 13, 29, 35, 65, 91, 145, 203, 377, 455, 1015, 1885, 2639]\n"
     ]
    }
   ],
   "source": [
    "# Problem 3\n",
    "\n",
    "num = 13195\n",
    "\n",
    "\n",
    "divisor = 2\n",
    "\n",
    "factors = []\n",
    "while divisor < num:\n",
    "    remainder = num % divisor\n",
    "    if remainder == 0:\n",
    "        factors.append(divisor)\n",
    "    divisor = divisor + 1\n",
    "\n",
    "print(factors)"
   ]
  },
  {
   "cell_type": "code",
   "execution_count": 9,
   "id": "a9d5b0a9",
   "metadata": {},
   "outputs": [],
   "source": [
    "def is_number_prime(input_number):\n",
    "    divisor = 2\n",
    "    factors = []\n",
    "    while divisor < input_number:\n",
    "        remainder = input_number % divisor\n",
    "        if remainder == 0:\n",
    "            factors.append(divisor)\n",
    "        divisor = divisor + 1\n",
    "\n",
    "    if len(factors) == 0:\n",
    "        return True # it is indeed prime\n",
    "    else:\n",
    "        return False # factors is not empty, so not prime"
   ]
  },
  {
   "cell_type": "code",
   "execution_count": 16,
   "id": "4120b5c6",
   "metadata": {},
   "outputs": [
    {
     "name": "stdout",
     "output_type": "stream",
     "text": [
      "71\n",
      "839\n",
      "1471\n",
      "6857\n"
     ]
    },
    {
     "ename": "KeyboardInterrupt",
     "evalue": "",
     "output_type": "error",
     "traceback": [
      "\u001b[31m---------------------------------------------------------------------------\u001b[39m",
      "\u001b[31mKeyboardInterrupt\u001b[39m                         Traceback (most recent call last)",
      "\u001b[36mCell\u001b[39m\u001b[36m \u001b[39m\u001b[32mIn[16]\u001b[39m\u001b[32m, line 12\u001b[39m\n\u001b[32m      9\u001b[39m \u001b[38;5;28;01mif\u001b[39;00m remainder == \u001b[32m0\u001b[39m:\n\u001b[32m     10\u001b[39m     factors.append(divisor)\n\u001b[32m---> \u001b[39m\u001b[32m12\u001b[39m     \u001b[38;5;28;01mif\u001b[39;00m \u001b[43mis_number_prime\u001b[49m\u001b[43m(\u001b[49m\u001b[43mdivisor\u001b[49m\u001b[43m)\u001b[49m:\n\u001b[32m     13\u001b[39m         \u001b[38;5;28mprint\u001b[39m(divisor)        \n\u001b[32m     14\u001b[39m divisor = divisor + \u001b[32m1\u001b[39m\n",
      "\u001b[36mCell\u001b[39m\u001b[36m \u001b[39m\u001b[32mIn[9]\u001b[39m\u001b[32m, line 4\u001b[39m, in \u001b[36mis_number_prime\u001b[39m\u001b[34m(input_number)\u001b[39m\n\u001b[32m      2\u001b[39m divisor = \u001b[32m2\u001b[39m\n\u001b[32m      3\u001b[39m factors = []\n\u001b[32m----> \u001b[39m\u001b[32m4\u001b[39m \u001b[38;5;28;01mwhile\u001b[39;00m divisor < input_number:\n\u001b[32m      5\u001b[39m     remainder = input_number % divisor\n\u001b[32m      6\u001b[39m     \u001b[38;5;28;01mif\u001b[39;00m remainder == \u001b[32m0\u001b[39m:\n",
      "\u001b[31mKeyboardInterrupt\u001b[39m: "
     ]
    }
   ],
   "source": [
    "num2 = 600851475143\n",
    "\n",
    "divisor = 2\n",
    "\n",
    "factors = []\n",
    "\n",
    "while divisor < num2:\n",
    "    remainder = num2 % divisor\n",
    "    if remainder == 0:\n",
    "        factors.append(divisor)\n",
    "    \n",
    "        if is_number_prime(divisor):\n",
    "            print(divisor)        \n",
    "    divisor = divisor + 1\n"
   ]
  },
  {
   "cell_type": "code",
   "execution_count": null,
   "id": "00482328",
   "metadata": {},
   "outputs": [],
   "source": []
  }
 ],
 "metadata": {
  "kernelspec": {
   "display_name": "base",
   "language": "python",
   "name": "python3"
  },
  "language_info": {
   "codemirror_mode": {
    "name": "ipython",
    "version": 3
   },
   "file_extension": ".py",
   "mimetype": "text/x-python",
   "name": "python",
   "nbconvert_exporter": "python",
   "pygments_lexer": "ipython3",
   "version": "3.12.3"
  }
 },
 "nbformat": 4,
 "nbformat_minor": 5
}
